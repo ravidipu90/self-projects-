{
  "nbformat": 4,
  "nbformat_minor": 0,
  "metadata": {
    "colab": {
      "provenance": [],
      "authorship_tag": "ABX9TyOsWprneC+5Uuf3kM6nboGn",
      "include_colab_link": true
    },
    "kernelspec": {
      "name": "python3",
      "display_name": "Python 3"
    },
    "language_info": {
      "name": "python"
    }
  },
  "cells": [
    {
      "cell_type": "markdown",
      "metadata": {
        "id": "view-in-github",
        "colab_type": "text"
      },
      "source": [
        "<a href=\"https://colab.research.google.com/github/ravidipu90/self-projects-/blob/main/Functional_API_%2B_Multi_output_Project.ipynb\" target=\"_parent\"><img src=\"https://colab.research.google.com/assets/colab-badge.svg\" alt=\"Open In Colab\"/></a>"
      ]
    },
    {
      "cell_type": "code",
      "execution_count": 1,
      "metadata": {
        "colab": {
          "base_uri": "https://localhost:8080/"
        },
        "id": "mv9v3n1UeVio",
        "outputId": "cf56d90b-7603-4327-b8f6-ba6bf72bba44"
      },
      "outputs": [
        {
          "output_type": "stream",
          "name": "stdout",
          "text": [
            "Model: \"mnist_model\"\n",
            "__________________________________________________________________________________________________\n",
            " Layer (type)                   Output Shape         Param #     Connected to                     \n",
            "==================================================================================================\n",
            " input_1 (InputLayer)           [(None, 28, 28)]     0           []                               \n",
            "                                                                                                  \n",
            " flatten (Flatten)              (None, 784)          0           ['input_1[0][0]']                \n",
            "                                                                                                  \n",
            " dense (Dense)                  (None, 128)          100480      ['flatten[0][0]']                \n",
            "                                                                                                  \n",
            " category_output (Dense)        (None, 10)           1290        ['dense[0][0]']                  \n",
            "                                                                                                  \n",
            " leftright_output (Dense)       (None, 1)            129         ['dense[0][0]']                  \n",
            "                                                                                                  \n",
            "==================================================================================================\n",
            "Total params: 101,899\n",
            "Trainable params: 101,899\n",
            "Non-trainable params: 0\n",
            "__________________________________________________________________________________________________\n"
          ]
        }
      ],
      "source": [
        "import os\n",
        "os.environ['TF_CPP_MIN_LOG_LEVEL'] = '2'\n",
        "\n",
        "import tensorflow as tf\n",
        "from tensorflow import keras\n",
        "import numpy as np\n",
        "# Define Functional Model\n",
        "inputs = keras.Input(shape=(28,28))\n",
        "flatten = keras.layers.Flatten()\n",
        "dense1 = keras.layers.Dense(128, activation='relu')\n",
        "\n",
        "dense2 = keras.layers.Dense(10, activation='softmax', name=\"category_output\")\n",
        "dense3 = keras.layers.Dense(1, activation='sigmoid', name=\"leftright_output\")\n",
        "x = flatten(inputs)\n",
        "x = dense1(x)\n",
        "outputs1 = dense2(x)\n",
        "outputs2 = dense3(x)\n",
        "\n",
        "model = keras.Model(inputs=inputs, outputs=[outputs1, outputs2], name=\"mnist_model\")\n",
        "model.summary()"
      ]
    },
    {
      "cell_type": "code",
      "source": [
        "# loss and optimizer\n",
        "loss1 = keras.losses.SparseCategoricalCrossentropy(from_logits=False)\n",
        "loss2 = keras.losses.BinaryCrossentropy(from_logits=False)\n",
        "optim = keras.optimizers.Adam(lr=0.001)\n",
        "metrics = [\"accuracy\"]\n",
        "\n",
        "losses = {\n",
        "    \"category_output\": loss1,\n",
        "    \"leftright_output\": loss2,\n",
        "}\n",
        "\n",
        "model.compile(loss=losses, optimizer=optim, metrics=metrics)"
      ],
      "metadata": {
        "colab": {
          "base_uri": "https://localhost:8080/"
        },
        "id": "RST9BgzDe_MB",
        "outputId": "839c24ef-0cc8-4ced-cd20-3afb35ba42fc"
      },
      "execution_count": 2,
      "outputs": [
        {
          "output_type": "stream",
          "name": "stderr",
          "text": [
            "/usr/local/lib/python3.7/dist-packages/keras/optimizers/optimizer_v2/adam.py:110: UserWarning: The `lr` argument is deprecated, use `learning_rate` instead.\n",
            "  super(Adam, self).__init__(name, **kwargs)\n"
          ]
        }
      ]
    },
    {
      "cell_type": "code",
      "source": [
        "# create data with 2 labels\n",
        "mnist = keras.datasets.mnist\n",
        "(x_train, y_train), (x_test, y_test) = mnist.load_data()\n",
        "x_train, x_test = x_train / 255.0, x_test / 255.0\n",
        "\n",
        "# 0=left, 1=right\n",
        "y_leftright = np.zeros(y_train.shape, dtype=np.uint8)\n",
        "for idx, y in enumerate(y_train):\n",
        "    if y > 5:\n",
        "        y_leftright[idx] = 1\n",
        "\n",
        "print(y_train.dtype, y_train[0:20])\n",
        "print(y_leftright.dtype, y_leftright[0:20])\n",
        "\n",
        "y= {\"category_output\": y_train,\n",
        "    \"leftright_output\": y_leftright }"
      ],
      "metadata": {
        "colab": {
          "base_uri": "https://localhost:8080/"
        },
        "id": "3I93igoifJLE",
        "outputId": "c3c765c3-af10-4a03-f64b-77a6b9125c21"
      },
      "execution_count": 3,
      "outputs": [
        {
          "output_type": "stream",
          "name": "stdout",
          "text": [
            "Downloading data from https://storage.googleapis.com/tensorflow/tf-keras-datasets/mnist.npz\n",
            "11490434/11490434 [==============================] - 0s 0us/step\n",
            "uint8 [5 0 4 1 9 2 1 3 1 4 3 5 3 6 1 7 2 8 6 9]\n",
            "uint8 [0 0 0 0 1 0 0 0 0 0 0 0 0 1 0 1 0 1 1 1]\n"
          ]
        }
      ]
    },
    {
      "cell_type": "code",
      "source": [
        "# training\n",
        "model.fit(x_train, y=y, epochs=5,\n",
        "          batch_size=64, verbose=2)"
      ],
      "metadata": {
        "colab": {
          "base_uri": "https://localhost:8080/"
        },
        "id": "LAd1bo3WfO02",
        "outputId": "73d759c7-37e5-4246-813e-c28f5c2eb4a0"
      },
      "execution_count": 4,
      "outputs": [
        {
          "output_type": "stream",
          "name": "stdout",
          "text": [
            "Epoch 1/5\n",
            "938/938 - 4s - loss: 0.4916 - category_output_loss: 0.3046 - leftright_output_loss: 0.1870 - category_output_accuracy: 0.9150 - leftright_output_accuracy: 0.9319 - 4s/epoch - 5ms/step\n",
            "Epoch 2/5\n",
            "938/938 - 3s - loss: 0.2358 - category_output_loss: 0.1400 - leftright_output_loss: 0.0958 - category_output_accuracy: 0.9594 - leftright_output_accuracy: 0.9680 - 3s/epoch - 4ms/step\n",
            "Epoch 3/5\n",
            "938/938 - 3s - loss: 0.1754 - category_output_loss: 0.1007 - leftright_output_loss: 0.0747 - category_output_accuracy: 0.9706 - leftright_output_accuracy: 0.9747 - 3s/epoch - 3ms/step\n",
            "Epoch 4/5\n",
            "938/938 - 4s - loss: 0.1406 - category_output_loss: 0.0783 - leftright_output_loss: 0.0623 - category_output_accuracy: 0.9771 - leftright_output_accuracy: 0.9791 - 4s/epoch - 4ms/step\n",
            "Epoch 5/5\n",
            "938/938 - 4s - loss: 0.1178 - category_output_loss: 0.0640 - leftright_output_loss: 0.0538 - category_output_accuracy: 0.9806 - leftright_output_accuracy: 0.9814 - 4s/epoch - 4ms/step\n"
          ]
        },
        {
          "output_type": "execute_result",
          "data": {
            "text/plain": [
              "<keras.callbacks.History at 0x7ff948b63a50>"
            ]
          },
          "metadata": {},
          "execution_count": 4
        }
      ]
    },
    {
      "cell_type": "code",
      "source": [
        "# list with 2 predictions\n",
        "predictions = model.predict(x_test)\n",
        "len(predictions)"
      ],
      "metadata": {
        "colab": {
          "base_uri": "https://localhost:8080/"
        },
        "id": "eL1wKSEafSvB",
        "outputId": "32c03f93-901f-424d-992d-8e940ab399f5"
      },
      "execution_count": 5,
      "outputs": [
        {
          "output_type": "stream",
          "name": "stdout",
          "text": [
            "313/313 [==============================] - 1s 2ms/step\n"
          ]
        },
        {
          "output_type": "execute_result",
          "data": {
            "text/plain": [
              "2"
            ]
          },
          "metadata": {},
          "execution_count": 5
        }
      ]
    },
    {
      "cell_type": "code",
      "source": [
        "prediction_category = predictions[0]\n",
        "prediction_lr = predictions[1]\n",
        "\n",
        "pr_cat = prediction_category[0:20]\n",
        "prediction_lr = prediction_lr[0:20]\n",
        "\n",
        "labels_cat = np.argmax(pr_cat, axis=1)\n",
        "labels_lr = np.array([1 if p >= 0.5 else 0 for p in prediction_lr])"
      ],
      "metadata": {
        "id": "BqQs6Nh5fYLN"
      },
      "execution_count": 6,
      "outputs": []
    },
    {
      "cell_type": "code",
      "source": [
        "print(y_test[0:20])\n",
        "print(labels_cat)\n",
        "print(labels_lr)"
      ],
      "metadata": {
        "colab": {
          "base_uri": "https://localhost:8080/"
        },
        "id": "aoWNsn8cfcR8",
        "outputId": "6d866645-811c-427b-80a2-60c0f55f02d3"
      },
      "execution_count": 7,
      "outputs": [
        {
          "output_type": "stream",
          "name": "stdout",
          "text": [
            "[7 2 1 0 4 1 4 9 5 9 0 6 9 0 1 5 9 7 3 4]\n",
            "[7 2 1 0 4 1 4 9 5 9 0 6 9 0 1 5 9 7 8 4]\n",
            "[1 0 0 0 0 0 0 1 0 1 0 1 1 0 0 0 1 1 0 0]\n"
          ]
        }
      ]
    },
    {
      "cell_type": "code",
      "source": [],
      "metadata": {
        "id": "wF2QmgUNfh8a"
      },
      "execution_count": null,
      "outputs": []
    }
  ]
}