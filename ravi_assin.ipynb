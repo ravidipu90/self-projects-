{
  "nbformat": 4,
  "nbformat_minor": 0,
  "metadata": {
    "colab": {
      "provenance": [],
      "include_colab_link": true
    },
    "kernelspec": {
      "name": "python3",
      "display_name": "Python 3"
    },
    "language_info": {
      "name": "python"
    }
  },
  "cells": [
    {
      "cell_type": "markdown",
      "metadata": {
        "id": "view-in-github",
        "colab_type": "text"
      },
      "source": [
        "<a href=\"https://colab.research.google.com/github/ravidipu90/self-projects-/blob/main/ravi_assin.ipynb\" target=\"_parent\"><img src=\"https://colab.research.google.com/assets/colab-badge.svg\" alt=\"Open In Colab\"/></a>"
      ]
    },
    {
      "cell_type": "code",
      "execution_count": null,
      "metadata": {
        "id": "QLtFaCoE4ryD"
      },
      "outputs": [],
      "source": [
        "import cv2\n",
        "import matplotlib.pyplot as plt\n",
        "import numpy as np\n",
        "import json\n",
        "from matplotlib import path\n",
        "from scipy import ndimage\n",
        "import os\n",
        "from scipy import ndimage"
      ]
    },
    {
      "cell_type": "code",
      "source": [
        "def crop_image(img,pts):\n",
        "  mask = np.zeros(img.shape, dtype=np.uint8)\n",
        "  roi_corners = np.array([pts], dtype=np.int32)\n",
        "  # fill the ROI so it doesn't get wiped out when the mask is applied\n",
        "  channel_count = img.shape[2]  # i.e. 3 or 4 depending on your image\n",
        "  ignore_mask_color = (255,)*channel_count\n",
        "  cv2.fillPoly(mask, roi_corners, ignore_mask_color)\n",
        "  masked_image = cv2.bitwise_and(img, mask)\n",
        "  return masked_image, mask\n",
        "\n",
        "def rotate_image(image,mask):\n",
        "  w,h=image.shape[:-1]\n",
        "  angle=np.random.randint(low=0,high=45, size=1)[0]\n",
        "  image = ndimage.rotate(image, angle)\n",
        "  mask = ndimage.rotate(mask, angle)\n",
        "  image=cv2.resize(image,(h,w))\n",
        "  mask=cv2.resize(mask,(h,w))\n",
        "  return image,mask\n",
        "\n",
        "def translate_image(img,mask):\n",
        "  h, w = img.shape[:2]\n",
        "  t_h = np.random.randint(low=0,high=h//4 ,size=1)[0]\n",
        "  t_w = np.random.randint(low=0,high=w//4, size=1)[0]\n",
        "  T = np.float32([[1, 0, t_w], [0, 1, t_h]])\n",
        "  # We use warpAffine to transform\n",
        "  # the image using the matrix, T\n",
        "  img = cv2.warpAffine(img, T, (w, h))\n",
        "  mask=cv2.warpAffine(mask, T, (w, h))\n",
        "  return img,mask\n",
        "\n",
        "\n",
        "def augment_image(item_image, empty_image, annotation, num_output_image,save_dir='results'):\n",
        "  img=cv2.imread(item_image)\n",
        "  img_empty1=cv2.imread(empty_image)\n",
        "  cordinates=json.load(open(annotation))\n",
        "\n",
        "  crops,masks=[],[]\n",
        "  for cord in cordinates['20220202-110958.png-1']['regions']:\n",
        "    x_pts=cord['shape_attributes']['all_points_x']\n",
        "    y_pts=cord['shape_attributes']['all_points_y']\n",
        "    pts=[(x,y) for x,y in zip(x_pts,y_pts)]\n",
        "    crop,mask=crop_image(img,pts)\n",
        "    crops.append(crop)\n",
        "    masks.append(mask)\n",
        "\n",
        "  if not os.path.isdir(save_dir):\n",
        "    os.makedirs(save_dir)\n",
        "  images=[]\n",
        "  for idx in range(num_output_image):\n",
        "    img_empty=img_empty1.copy()\n",
        "    for _ in (range(len(crops))):\n",
        "      crop_idx=np.random.choice(range(len(crops)), size=1)[0]\n",
        "      crop,mask=crops[crop_idx],masks[crop_idx]\n",
        "      crop,mask=translate_image(crop,mask)\n",
        "      crop,mask=rotate_image(crop,mask)\n",
        "      mask_inv=~mask\n",
        "      img_empty=cv2.bitwise_and(img_empty, mask_inv)\n",
        "      img_empty=cv2.bitwise_or(img_empty, crop)\n",
        "\n",
        "    path=os.path.join(save_dir,'%s.jpg'%(str(idx)))\n",
        "    cv2.imwrite(path,img_empty)\n",
        "    images.append(path)\n",
        "  return images\n",
        "\n",
        "results=augment_image('item_image.png','empty_image.png','annotation.json',15)\n",
        "print(results)"
      ],
      "metadata": {
        "colab": {
          "base_uri": "https://localhost:8080/",
          "height": 372
        },
        "id": "SK_hBd1R7DOv",
        "outputId": "11289710-fce3-43e8-8b64-3aa74a0cf065"
      },
      "execution_count": null,
      "outputs": [
        {
          "output_type": "error",
          "ename": "FileNotFoundError",
          "evalue": "ignored",
          "traceback": [
            "\u001b[0;31m---------------------------------------------------------------------------\u001b[0m",
            "\u001b[0;31mFileNotFoundError\u001b[0m                         Traceback (most recent call last)",
            "\u001b[0;32m<ipython-input-2-f5f294733cae>\u001b[0m in \u001b[0;36m<module>\u001b[0;34m\u001b[0m\n\u001b[1;32m     63\u001b[0m   \u001b[0;32mreturn\u001b[0m \u001b[0mimages\u001b[0m\u001b[0;34m\u001b[0m\u001b[0;34m\u001b[0m\u001b[0m\n\u001b[1;32m     64\u001b[0m \u001b[0;34m\u001b[0m\u001b[0m\n\u001b[0;32m---> 65\u001b[0;31m \u001b[0mresults\u001b[0m\u001b[0;34m=\u001b[0m\u001b[0maugment_image\u001b[0m\u001b[0;34m(\u001b[0m\u001b[0;34m'item_image.png'\u001b[0m\u001b[0;34m,\u001b[0m\u001b[0;34m'empty_image.png'\u001b[0m\u001b[0;34m,\u001b[0m\u001b[0;34m'annotation.json'\u001b[0m\u001b[0;34m,\u001b[0m\u001b[0;36m15\u001b[0m\u001b[0;34m)\u001b[0m\u001b[0;34m\u001b[0m\u001b[0;34m\u001b[0m\u001b[0m\n\u001b[0m\u001b[1;32m     66\u001b[0m \u001b[0mprint\u001b[0m\u001b[0;34m(\u001b[0m\u001b[0mresults\u001b[0m\u001b[0;34m)\u001b[0m\u001b[0;34m\u001b[0m\u001b[0;34m\u001b[0m\u001b[0m\n",
            "\u001b[0;32m<ipython-input-2-f5f294733cae>\u001b[0m in \u001b[0;36maugment_image\u001b[0;34m(item_image, empty_image, annotation, num_output_image, save_dir)\u001b[0m\n\u001b[1;32m     33\u001b[0m   \u001b[0mimg\u001b[0m\u001b[0;34m=\u001b[0m\u001b[0mcv2\u001b[0m\u001b[0;34m.\u001b[0m\u001b[0mimread\u001b[0m\u001b[0;34m(\u001b[0m\u001b[0mitem_image\u001b[0m\u001b[0;34m)\u001b[0m\u001b[0;34m\u001b[0m\u001b[0;34m\u001b[0m\u001b[0m\n\u001b[1;32m     34\u001b[0m   \u001b[0mimg_empty1\u001b[0m\u001b[0;34m=\u001b[0m\u001b[0mcv2\u001b[0m\u001b[0;34m.\u001b[0m\u001b[0mimread\u001b[0m\u001b[0;34m(\u001b[0m\u001b[0mempty_image\u001b[0m\u001b[0;34m)\u001b[0m\u001b[0;34m\u001b[0m\u001b[0;34m\u001b[0m\u001b[0m\n\u001b[0;32m---> 35\u001b[0;31m   \u001b[0mcordinates\u001b[0m\u001b[0;34m=\u001b[0m\u001b[0mjson\u001b[0m\u001b[0;34m.\u001b[0m\u001b[0mload\u001b[0m\u001b[0;34m(\u001b[0m\u001b[0mopen\u001b[0m\u001b[0;34m(\u001b[0m\u001b[0mannotation\u001b[0m\u001b[0;34m)\u001b[0m\u001b[0;34m)\u001b[0m\u001b[0;34m\u001b[0m\u001b[0;34m\u001b[0m\u001b[0m\n\u001b[0m\u001b[1;32m     36\u001b[0m \u001b[0;34m\u001b[0m\u001b[0m\n\u001b[1;32m     37\u001b[0m   \u001b[0mcrops\u001b[0m\u001b[0;34m,\u001b[0m\u001b[0mmasks\u001b[0m\u001b[0;34m=\u001b[0m\u001b[0;34m[\u001b[0m\u001b[0;34m]\u001b[0m\u001b[0;34m,\u001b[0m\u001b[0;34m[\u001b[0m\u001b[0;34m]\u001b[0m\u001b[0;34m\u001b[0m\u001b[0;34m\u001b[0m\u001b[0m\n",
            "\u001b[0;31mFileNotFoundError\u001b[0m: [Errno 2] No such file or directory: 'annotation.json'"
          ]
        }
      ]
    },
    {
      "cell_type": "code",
      "source": [
        "'''\n",
        "img=cv2.imread('item_image.png')\n",
        "img_empty=cv2.imread('empty_image.png')\n",
        "plt.imshow(img_empty)\n",
        "plt.show()\n",
        "\n",
        "def crop_image(img,pts):\n",
        "  mask = np.zeros(img.shape, dtype=np.uint8)\n",
        "  roi_corners = np.array([pts], dtype=np.int32)\n",
        "  # fill the ROI so it doesn't get wiped out when the mask is applied\n",
        "  channel_count = img.shape[2]  # i.e. 3 or 4 depending on your image\n",
        "  ignore_mask_color = (255,)*channel_count\n",
        "  cv2.fillPoly(mask, roi_corners, ignore_mask_color)\n",
        "  masked_image = cv2.bitwise_and(img, mask)\n",
        "  return masked_image, mask\n",
        "\n",
        "def paste_crop(img,crop):\n",
        "  mask = np.zeros(img.shape, dtype=np.uint8)\n",
        "  roi_corners = np.array([pts], dtype=np.int32)\n",
        "  # fill the ROI so it doesn't get wiped out when the mask is applied\n",
        "  channel_count = img.shape[2]  # i.e. 3 or 4 depending on your image\n",
        "  ignore_mask_color = (255,)*channel_count\n",
        "  cv2.fillPoly(mask, roi_corners, ignore_mask_color)\n",
        "  masked_image = cv2.bitwise_and(img, mask)\n",
        "  return masked_image\n",
        "\n",
        "\n",
        "crops,masks=[],[]\n",
        "cordinates=json.load(open('annotation.json'))\n",
        "#print(cordinates)\n",
        "\n",
        "for cord in cordinates['20220202-110958.png-1']['regions']:\n",
        "  x_pts=cord['shape_attributes']['all_points_x']\n",
        "  y_pts=cord['shape_attributes']['all_points_y']\n",
        "  pts=[(x,y) for x,y in zip(x_pts,y_pts)]\n",
        "  crop,mask=crop_image(img,pts)\n",
        "  crops.append(crop)\n",
        "  masks.append(mask)\n",
        "  plt.imshow(crop)\n",
        "  plt.show()\n",
        "  plt.imshow(mask)\n",
        "  plt.show()\n",
        "\n",
        "'''"
      ],
      "metadata": {
        "id": "uOpUP2KC7k2f"
      },
      "execution_count": null,
      "outputs": []
    },
    {
      "cell_type": "code",
      "source": [
        "'''\n",
        "\n",
        "for _ in range(10):\n",
        "  crop_idx=np.random.choice(range(len(crops)), size=1)[0]\n",
        "  crop,mask=crops[crop_idx],masks[crop_idx]\n",
        "  crop,mask=translate_image(crop,mask)\n",
        "  crop,mask=rotate_image(crop,mask)\n",
        "  mask_inv=~mask\n",
        "  img_empty=cv2.bitwise_and(img_empty, mask_inv)\n",
        "  img_empty=cv2.bitwise_or(img_empty, crop)\n",
        "\n",
        "  plt.imshow(crop)\n",
        "  plt.show()\n",
        "  plt.imshow(img_empty)\n",
        "  plt.show()\n",
        "'''"
      ],
      "metadata": {
        "id": "qhQK4t8yBDJi"
      },
      "execution_count": null,
      "outputs": []
    },
    {
      "cell_type": "code",
      "source": [],
      "metadata": {
        "id": "4v4UDdS7DxlT"
      },
      "execution_count": null,
      "outputs": []
    },
    {
      "cell_type": "code",
      "source": [],
      "metadata": {
        "id": "DPAazt7a78Ap"
      },
      "execution_count": null,
      "outputs": []
    }
  ]
}