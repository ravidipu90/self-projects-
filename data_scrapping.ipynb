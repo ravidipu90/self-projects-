{
  "nbformat": 4,
  "nbformat_minor": 0,
  "metadata": {
    "colab": {
      "provenance": [],
      "include_colab_link": true
    },
    "kernelspec": {
      "name": "python3",
      "display_name": "Python 3"
    },
    "language_info": {
      "name": "python"
    }
  },
  "cells": [
    {
      "cell_type": "markdown",
      "metadata": {
        "id": "view-in-github",
        "colab_type": "text"
      },
      "source": [
        "<a href=\"https://colab.research.google.com/github/ravidipu90/self-projects-/blob/main/data_scrapping.ipynb\" target=\"_parent\"><img src=\"https://colab.research.google.com/assets/colab-badge.svg\" alt=\"Open In Colab\"/></a>"
      ]
    },
    {
      "cell_type": "code",
      "execution_count": null,
      "metadata": {
        "colab": {
          "base_uri": "https://localhost:8080/"
        },
        "id": "e7xAJlZ8rD41",
        "outputId": "3675d450-a44d-4249-8297-de15521e7cca"
      },
      "outputs": [
        {
          "output_type": "stream",
          "name": "stdout",
          "text": [
            "Collecting pyPDF2\n",
            "  Downloading pypdf2-3.0.1-py3-none-any.whl (232 kB)\n",
            "\u001b[?25l     \u001b[90m━━━━━━━━━━━━━━━━━━━━━━━━━━━━━━━━━━━━━━━━\u001b[0m \u001b[32m0.0/232.6 kB\u001b[0m \u001b[31m?\u001b[0m eta \u001b[36m-:--:--\u001b[0m\r\u001b[2K     \u001b[91m━━━━━━━━━━━━━━━━━\u001b[0m\u001b[90m╺\u001b[0m\u001b[90m━━━━━━━━━━━━━━━━━━━━━\u001b[0m \u001b[32m102.4/232.6 kB\u001b[0m \u001b[31m2.8 MB/s\u001b[0m eta \u001b[36m0:00:01\u001b[0m\r\u001b[2K     \u001b[90m━━━━━━━━━━━━━━━━━━━━━━━━━━━━━━━━━━━━━━━\u001b[0m \u001b[32m232.6/232.6 kB\u001b[0m \u001b[31m3.8 MB/s\u001b[0m eta \u001b[36m0:00:00\u001b[0m\n",
            "\u001b[?25hInstalling collected packages: pyPDF2\n",
            "Successfully installed pyPDF2-3.0.1\n"
          ]
        }
      ],
      "source": [
        "!pip3 install PyPDF2"
      ]
    },
    {
      "cell_type": "code",
      "source": [
        "import PyPDF2\n",
        "import re\n",
        "import csv\n",
        "import pandas as pd\n",
        "import numpy as np\n",
        "from itertools import zip_longest\n",
        "swift_code_pattern = r'\\b(?:[A-Z]{8,}|[A-Z]{6}[0-9]{1,3}[A-Z]{1,2})\\b'\n",
        "swift_code_pattern_two = r'\\b[A-Z]{6}[0-9A-Z]{2}\\b'\n",
        "account_ref_pattern = r'\\b(?:[A-Z]{2}\\d+[-\\d]*|10-\\d+|\\d{6,})\\b'\n",
        "country_code_pattern =  r'\\b[A-Z]{3}\\b'\n",
        "swift_code = []\n",
        "account_ref = []\n",
        "country_code = []\n",
        "\n",
        "#open the PDF file\n",
        "PDFfile = open('/content/first.pdf', 'rb')\n",
        "\n",
        "PDFfilereader = PyPDF2.PdfReader(PDFfile)\n",
        "\n",
        "#print the number of pages\n",
        "#number of pages on which table is present\n",
        "pages_num = [3,4,5,6,7,8]\n",
        "for page_len in pages_num:\n",
        "    pages = PDFfilereader.pages[page_len]\n",
        "    text = pages.extract_text().split('\\n')\n",
        "    for item in text:\n",
        "      swift_match = re.findall(swift_code_pattern, item)\n",
        "      if(swift_match):\n",
        "        swift_code.append(swift_match[0])\n",
        "      else:\n",
        "        swift_code.append('')\n",
        "      account_ref_match = re.findall(account_ref_pattern, item)\n",
        "      if(account_ref_match):\n",
        "        account_ref.append(account_ref_match[0])\n",
        "      else:\n",
        "        account_ref.append('')\n",
        "      country_code_match = re.findall(country_code_pattern,item)\n",
        "      if(country_code_match):\n",
        "        country_code.append(country_code_match[0])\n",
        "      else:\n",
        "        country_code.append('')\n",
        "\n",
        "PDFfile.close()\n",
        "\n",
        "SECONDPDFfile = open('/content/second.pdf', 'rb')\n",
        "SECONDPDFfilereader = PyPDF2.PdfReader(SECONDPDFfile)\n",
        "pages = SECONDPDFfilereader.pages[0]\n",
        "text = pages.extract_text().split('Beneficiary:')\n",
        "for item in text:\n",
        "      swift_match = re.findall(swift_code_pattern_two, item)\n",
        "      if(swift_match):\n",
        "        swift_code.append(swift_match[0])\n",
        "      else:\n",
        "        swift_code.append('')\n",
        "      account_ref_match = re.findall(account_ref_pattern, item)\n",
        "      if(account_ref_match):\n",
        "        account_ref.append(account_ref_match[0])\n",
        "      else:\n",
        "        account_ref.append('')\n",
        "      country_code_match = re.findall(country_code_pattern,item)\n",
        "      country_code_match.remove('STJ') if 'STJ' in country_code_match else None\n",
        "      if(country_code_match):\n",
        "        country_code.append(country_code_match[len(country_code_match)-1] or country_code_match[len(country_code_match)-1])\n",
        "      else:\n",
        "        country_code.append('')\n",
        "SECONDPDFfile.close()\n",
        "\n",
        "THIRPDFfile = open('/content/third.pdf', 'rb')\n",
        "THIRDPDFfilereader = PyPDF2.PdfReader(THIRPDFfile)\n",
        "pages = THIRDPDFfilereader.pages[0]\n",
        "text = pages.extract_text().split('\\n')\n",
        "for item in text:\n",
        "      swift_match = re.findall(swift_code_pattern, item)\n",
        "      if(swift_match):\n",
        "        swift_code.append(swift_match[0])\n",
        "      else:\n",
        "        swift_code.append('')\n",
        "      account_ref_match = re.findall(account_ref_pattern, item)\n",
        "      if(account_ref_match):\n",
        "        account_ref.append(account_ref_match[0])\n",
        "      else:\n",
        "        account_ref.append('')\n",
        "      country_code_match = re.findall(country_code_pattern,item)\n",
        "      if(country_code_match):\n",
        "        country_code.append(country_code_match[0])\n",
        "      else:\n",
        "        country_code.append('')\n",
        "THIRPDFfile.close()\n",
        "dummy_col = ['' for _ in range(len(country_code))]\n",
        "df =  pd.DataFrame(zip(country_code,swift_code,account_ref,dummy_col,dummy_col),columns=[\"Currency\", \"Beneficiary BIC\", \"Beneficiary Account Ref\",\"Correspondent BIC\",\"Correspondent Account Ref\"])\n",
        "df.replace(r'^\\s*$', np.nan, regex=True,inplace=True)\n",
        "df.dropna(how='all',inplace=True)\n",
        "d=[country_code, swift_code, account_ref]\n",
        "export_data = zip_longest(*d, fillvalue = '')\n",
        "df.to_csv('/content/result.csv', encoding='utf-8', index=False)\n",
        "\n"
      ],
      "metadata": {
        "colab": {
          "base_uri": "https://localhost:8080/"
        },
        "id": "rqs7cPEGsbBb",
        "outputId": "4cf36c5e-7fac-4e77-a8ef-1d3ce182560c"
      },
      "execution_count": null,
      "outputs": [
        {
          "output_type": "stream",
          "name": "stdout",
          "text": [
            "    Currency Beneficiary BIC     Beneficiary Account Ref  Correspondent BIC  \\\n",
            "2        PLC             NaN                         NaN                NaN   \n",
            "7        PTY        CITIAU3X                  2056900000                NaN   \n",
            "9        NaN     CEDELULLXXX                         NaN                NaN   \n",
            "11       PLC             NaN                         NaN                NaN   \n",
            "12       BIC             NaN                  0006052759                NaN   \n",
            "..       ...             ...                         ...                ...   \n",
            "347      THB        KASITHBK                  0991325484                NaN   \n",
            "348      TRY             NaN  TR600006200093000006499617                NaN   \n",
            "349      USD        WFBIUS6S              00028634050723                NaN   \n",
            "350      ZAR        ABSAZAJJ                    ZA632005                NaN   \n",
            "359      IHA             NaN                     6945212                NaN   \n",
            "\n",
            "     Correspondent Account Ref  \n",
            "2                          NaN  \n",
            "7                          NaN  \n",
            "9                          NaN  \n",
            "11                         NaN  \n",
            "12                         NaN  \n",
            "..                         ...  \n",
            "347                        NaN  \n",
            "348                        NaN  \n",
            "349                        NaN  \n",
            "350                        NaN  \n",
            "359                        NaN  \n",
            "\n",
            "[178 rows x 5 columns]\n"
          ]
        }
      ]
    }
  ]
}