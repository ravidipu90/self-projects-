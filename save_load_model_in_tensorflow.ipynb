{
  "nbformat": 4,
  "nbformat_minor": 0,
  "metadata": {
    "colab": {
      "provenance": [],
      "authorship_tag": "ABX9TyNxmhMeKk4XS+B0he6iHXaT",
      "include_colab_link": true
    },
    "kernelspec": {
      "name": "python3",
      "display_name": "Python 3"
    },
    "language_info": {
      "name": "python"
    }
  },
  "cells": [
    {
      "cell_type": "markdown",
      "metadata": {
        "id": "view-in-github",
        "colab_type": "text"
      },
      "source": [
        "<a href=\"https://colab.research.google.com/github/ravidipu90/self-projects-/blob/main/save_load_model_in_tensorflow.ipynb\" target=\"_parent\"><img src=\"https://colab.research.google.com/assets/colab-badge.svg\" alt=\"Open In Colab\"/></a>"
      ]
    },
    {
      "cell_type": "code",
      "execution_count": 1,
      "metadata": {
        "colab": {
          "base_uri": "https://localhost:8080/"
        },
        "id": "aeCg2PgbO8DB",
        "outputId": "3fbd45c3-8cd3-4da1-ac3f-8572b4362c8f"
      },
      "outputs": [
        {
          "output_type": "stream",
          "name": "stdout",
          "text": [
            "Downloading data from https://storage.googleapis.com/tensorflow/tf-keras-datasets/mnist.npz\n",
            "11490434/11490434 [==============================] - 0s 0us/step\n",
            "Epoch 1/5\n"
          ]
        },
        {
          "output_type": "stream",
          "name": "stderr",
          "text": [
            "/usr/local/lib/python3.7/dist-packages/keras/optimizers/optimizer_v2/adam.py:110: UserWarning: The `lr` argument is deprecated, use `learning_rate` instead.\n",
            "  super(Adam, self).__init__(name, **kwargs)\n"
          ]
        },
        {
          "output_type": "stream",
          "name": "stdout",
          "text": [
            "938/938 - 2s - loss: 0.3011 - sparse_categorical_accuracy: 0.9157 - 2s/epoch - 2ms/step\n",
            "Epoch 2/5\n",
            "938/938 - 2s - loss: 0.1373 - sparse_categorical_accuracy: 0.9599 - 2s/epoch - 2ms/step\n",
            "Epoch 3/5\n",
            "938/938 - 2s - loss: 0.0954 - sparse_categorical_accuracy: 0.9720 - 2s/epoch - 3ms/step\n",
            "Epoch 4/5\n",
            "938/938 - 2s - loss: 0.0706 - sparse_categorical_accuracy: 0.9790 - 2s/epoch - 2ms/step\n",
            "Epoch 5/5\n",
            "938/938 - 1s - loss: 0.0567 - sparse_categorical_accuracy: 0.9831 - 1s/epoch - 2ms/step\n",
            "Evaluate:\n",
            "313/313 - 0s - loss: 0.0796 - sparse_categorical_accuracy: 0.9748 - 367ms/epoch - 1ms/step\n",
            "Model: \"sequential\"\n",
            "_________________________________________________________________\n",
            " Layer (type)                Output Shape              Param #   \n",
            "=================================================================\n",
            " flatten (Flatten)           (None, 784)               0         \n",
            "                                                                 \n",
            " dense (Dense)               (None, 128)               100480    \n",
            "                                                                 \n",
            " dense_1 (Dense)             (None, 10)                1290      \n",
            "                                                                 \n",
            "=================================================================\n",
            "Total params: 101,770\n",
            "Trainable params: 101,770\n",
            "Non-trainable params: 0\n",
            "_________________________________________________________________\n",
            "None\n"
          ]
        }
      ],
      "source": [
        "import os\n",
        "os.environ['TF_CPP_MIN_LOG_LEVEL'] = '2'\n",
        "\n",
        "import tensorflow as tf\n",
        "from tensorflow import keras\n",
        "import numpy as np\n",
        "\n",
        "mnist = keras.datasets.mnist\n",
        "\n",
        "(x_train, y_train), (x_test, y_test) = mnist.load_data()\n",
        "\n",
        "# normalize\n",
        "x_train, x_test = x_train / 255.0, x_test / 255.0\n",
        "\n",
        "\n",
        "# Feed forward neural network\n",
        "model = keras.models.Sequential([\n",
        "    keras.layers.Flatten(input_shape=(28,28)),\n",
        "    keras.layers.Dense(128, activation='relu'),\n",
        "    keras.layers.Dense(10),\n",
        "])\n",
        "\n",
        "# config\n",
        "loss = keras.losses.SparseCategoricalCrossentropy(from_logits=True)\n",
        "optim = keras.optimizers.Adam(lr=0.001) # \"adam\"\n",
        "metrics = [keras.metrics.SparseCategoricalAccuracy()] # \"accuracy\"\n",
        "\n",
        "# compile\n",
        "model.compile(loss=loss, optimizer=optim, metrics=metrics)\n",
        "\n",
        "# fit/training\n",
        "model.fit(x_train, y_train, batch_size=64, epochs=5, shuffle=True, verbose=2)\n",
        "\n",
        "print(\"Evaluate:\")\n",
        "model.evaluate(x_test,  y_test, verbose=2)\n",
        "\n",
        "# 1) Save whole model\n",
        "# two formats: SavedModel or HDF5\n",
        "model.save(\"nn\")  # no file ending = SavedModel\n",
        "model.save(\"nn.h5\")  # .h5 = HDF5\n",
        "\n",
        "new_model = keras.models.load_model(\"nn.h5\")\n",
        "\n",
        "# 2) save only weights\n",
        "model.save_weights(\"nn_weights.h5\")\n",
        "\n",
        "# initilaize model first:\n",
        "# model = keras.Sequential([...])\n",
        "model.load_weights(\"nn_weights.h5\")\n",
        "\n",
        "# 3) save only architecture, to_json\n",
        "json_string = model.to_json()\n",
        "\n",
        "with open(\"nn_model.json\", \"w\") as f:\n",
        "    f.write(json_string)\n",
        "\n",
        "with open(\"nn_model.json\", \"r\") as f:\n",
        "    loaded_json_string = f.read()\n",
        "\n",
        "new_model = keras.models.model_from_json(loaded_json_string)\n",
        "print(new_model.summary())"
      ]
    }
  ]
}